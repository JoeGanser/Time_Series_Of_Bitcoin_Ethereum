{
 "cells": [
  {
   "cell_type": "markdown",
   "metadata": {},
   "source": [
    "In this notebook I am tuning the number of epochs and neurons in the LSTM neural net models."
   ]
  },
  {
   "cell_type": "code",
   "execution_count": 2,
   "metadata": {},
   "outputs": [],
   "source": [
    "import pandas as pd\n",
    "import numpy as np\n",
    "from datetime import date\n",
    "bitcoin =pd.read_csv('bitcoin.csv').drop('Unnamed: 0',axis=1)\n",
    "bitcoin['Date'] = pd.to_datetime(bitcoin['Date'])\n",
    "bitcoin.set_index('Date',inplace=True)\n",
    "bits_log_shift = (np.log(bitcoin['Price']) - np.log(bitcoin['Price']).shift()).dropna()\n",
    "ethereum = pd.read_csv('ethereum.csv').drop('Unnamed: 0',axis=1)\n",
    "ethereum['Date'] = pd.to_datetime(ethereum['Date'])\n",
    "ethereum.set_index('Date',inplace=True)\n",
    "eth_log_shift = (np.log(ethereum['Price']) - np.log(ethereum['Price']).shift()).dropna()"
   ]
  },
  {
   "cell_type": "markdown",
   "metadata": {},
   "source": [
    "Step 1: Transform the time series to be stationary so it passes the dickey fuller test (extracting the signal from the noise)\n",
    "\n",
    "Step 2 Transform the dataframes into a series of lags that can be input into the neural net model\n",
    "\n",
    "Step 3: Put the transformed data into a scaled format [0,1] compatable with the activation functions\n",
    "\n",
    "Step 4: Put the training set into a function that loops over each epoch that builds and returns a model\n",
    "\n",
    "Step 5: Use the model to make a forecast\n",
    "\n",
    "Step 6: Based upon previous min/max scaling, convert the returned values back to their original scales\n",
    "\n",
    "Step 7: Output the predictions. Train the model on the entire time series upto the last few days (days_out), then predict the next day. Loop this again, upto until the series ends. The predictions are the predicted noise\n",
    "\n",
    "Step 8: Plug the noise back into the signal, and calculate the root mean squared error.\n",
    "\n"
   ]
  },
  {
   "cell_type": "code",
   "execution_count": 3,
   "metadata": {},
   "outputs": [
    {
     "name": "stderr",
     "output_type": "stream",
     "text": [
      "/anaconda3/lib/python3.6/site-packages/h5py/__init__.py:36: FutureWarning: Conversion of the second argument of issubdtype from `float` to `np.floating` is deprecated. In future, it will be treated as `np.float64 == np.dtype(float).type`.\n",
      "  from ._conv import register_converters as _register_converters\n",
      "Using TensorFlow backend.\n"
     ]
    }
   ],
   "source": [
    "from sklearn.preprocessing import MinMaxScaler\n",
    "from keras.models import Sequential\n",
    "from keras.layers import Dense\n",
    "from keras.layers import LSTM\n",
    "from sklearn.metrics import mean_squared_error\n",
    "\n",
    "\n",
    "def Neural_Net_predictions(original_time_series, stationary_time_series, days_out,nb_epoch,neurons):\n",
    "    # note all these \"sub\" functions are used on the stationary time series.\n",
    "    # The neural nets are used to predict the noise. Once the noise is predicted\n",
    "    # Its plugged back into the signal\n",
    "    \n",
    "    X = stationary_time_series\n",
    "    \n",
    "    # Step 2\n",
    "    # Break the time series into shifted components. Each column is a shifted value \n",
    "    # previously in the time series\n",
    "    def timeseries_to_supervised(data, lag=1):\n",
    "        df = pd.DataFrame(data)\n",
    "        columns = [df.shift(i) for i in range(1, lag+1)]\n",
    "        columns.append(df)\n",
    "        df = pd.concat(columns, axis=1)\n",
    "        df.fillna(0, inplace=True)\n",
    "        return df\n",
    "    \n",
    "    # Step 3\n",
    "    # We must put the time series onto the scale acceptable by the activation functions\n",
    "    def scale(train, test):\n",
    "        scaler = MinMaxScaler(feature_range=(-1, 1))\n",
    "        scaler = scaler.fit(train)\n",
    "        train = train.reshape(train.shape[0],train.shape[1])\n",
    "        train_scaled = scaler.transform(train)\n",
    "        test = test.reshape(test.shape[0],test.shape[1])\n",
    "        test_scaled = scaler.transform(test)\n",
    "        return scaler, train_scaled, test_scaled\n",
    "    \n",
    "    \n",
    "    # Step 4\n",
    "    def fit_lstm(train, batch_size, nb_epoch, neurons):\n",
    "        X, y = train[:, 0:-1], train[:, -1]\n",
    "        X = X.reshape(X.shape[0], 1, X.shape[1])\n",
    "        model = Sequential()\n",
    "        model.add(LSTM(neurons, batch_input_shape=(batch_size, X.shape[1], X.shape[2]), stateful=True))\n",
    "        model.add(Dense(1))\n",
    "        model.compile(loss='mean_squared_error', optimizer='adam')\n",
    "        for i in range(nb_epoch):\n",
    "            model.fit(X, y, epochs=1, batch_size=batch_size, verbose=0, shuffle=False)\n",
    "            model.reset_states()\n",
    "        return model\n",
    "\n",
    "    \n",
    "    # Step 5\n",
    "    def forecast_lstm(model, batch_size, X):\n",
    "        X = X.reshape(1, 1, len(X))\n",
    "        yhat = model.predict(X, batch_size=batch_size)\n",
    "        return yhat[0,0]\n",
    "    \n",
    "    #Step 6\n",
    "    def invert_scale(scaler, X, value):\n",
    "        new_row = [x for x in X] + [value]\n",
    "        array = np.array(new_row)\n",
    "        array = array.reshape(1, len(array))\n",
    "        inverted = scaler.inverse_transform(array)\n",
    "        return inverted[0, -1]\n",
    "\n",
    "    # Now use all the above functions\n",
    "    supervised = timeseries_to_supervised(X,1)\n",
    "    supervised_values = supervised.values\n",
    "    train, test = supervised_values[0:-days_out], supervised_values[-days_out:]\n",
    "    scaler, train_scaled, test_scaled = scale(train, test)\n",
    "    train_reshaped = train_scaled[:,0].reshape(len(train_scaled),1,1)\n",
    "    lstm_model = fit_lstm(train_scaled,1,nb_epoch,neurons)\n",
    "    \n",
    "    #Step 7\n",
    "    predictions = []\n",
    "    for i in range(len(test_scaled)):\n",
    "        #Make one step forecast\n",
    "        X, y = test_scaled[i,0:-1], test_scaled[i,-1]\n",
    "        yhat = forecast_lstm(lstm_model,1,X)\n",
    "        #invert scaling\n",
    "        yhat = invert_scale(scaler, X, yhat)\n",
    "        #store forecast\n",
    "        predictions.append(yhat)\n",
    "    \n",
    "    # Step 8\n",
    "    # This part plugs it back into the signal\n",
    "    predictions_series = pd.Series(predictions, index = original_time_series.index[-days_out:])\n",
    "    a = original_time_series.loc[original_time_series.index[-(days_out+1):]]['Price']\n",
    "    b = np.exp(predictions_series)\n",
    "    full_predictions = pd.DataFrame(a*b,columns=['Predicted with Neural Nets']).dropna()\n",
    "    df = pd.concat([original_time_series.loc[original_time_series.index[-days_out:]],full_predictions],axis=1)\n",
    "    error = str(np.sqrt(mean_squared_error(df['Price'],df['Predicted with Neural Nets'])))\n",
    "    #print(\"Neural Net Root Mean Squared Error: \",error)\n",
    "    return df,error"
   ]
  },
  {
   "cell_type": "code",
   "execution_count": 4,
   "metadata": {},
   "outputs": [
    {
     "data": {
      "text/html": [
       "<div>\n",
       "<style scoped>\n",
       "    .dataframe tbody tr th:only-of-type {\n",
       "        vertical-align: middle;\n",
       "    }\n",
       "\n",
       "    .dataframe tbody tr th {\n",
       "        vertical-align: top;\n",
       "    }\n",
       "\n",
       "    .dataframe thead th {\n",
       "        text-align: right;\n",
       "    }\n",
       "</style>\n",
       "<table border=\"1\" class=\"dataframe\">\n",
       "  <thead>\n",
       "    <tr style=\"text-align: right;\">\n",
       "      <th></th>\n",
       "      <th>epochs</th>\n",
       "      <th>Neurons</th>\n",
       "      <th>RMSE</th>\n",
       "    </tr>\n",
       "  </thead>\n",
       "  <tbody>\n",
       "    <tr>\n",
       "      <th>0</th>\n",
       "      <td>45</td>\n",
       "      <td>100</td>\n",
       "      <td>45.178360</td>\n",
       "    </tr>\n",
       "    <tr>\n",
       "      <th>1</th>\n",
       "      <td>45</td>\n",
       "      <td>150</td>\n",
       "      <td>46.945795</td>\n",
       "    </tr>\n",
       "    <tr>\n",
       "      <th>2</th>\n",
       "      <td>45</td>\n",
       "      <td>125</td>\n",
       "      <td>47.017129</td>\n",
       "    </tr>\n",
       "    <tr>\n",
       "      <th>3</th>\n",
       "      <td>30</td>\n",
       "      <td>125</td>\n",
       "      <td>52.443253</td>\n",
       "    </tr>\n",
       "    <tr>\n",
       "      <th>4</th>\n",
       "      <td>30</td>\n",
       "      <td>150</td>\n",
       "      <td>54.964976</td>\n",
       "    </tr>\n",
       "    <tr>\n",
       "      <th>5</th>\n",
       "      <td>30</td>\n",
       "      <td>100</td>\n",
       "      <td>66.055760</td>\n",
       "    </tr>\n",
       "  </tbody>\n",
       "</table>\n",
       "</div>"
      ],
      "text/plain": [
       "   epochs  Neurons       RMSE\n",
       "0      45      100  45.178360\n",
       "1      45      150  46.945795\n",
       "2      45      125  47.017129\n",
       "3      30      125  52.443253\n",
       "4      30      150  54.964976\n",
       "5      30      100  66.055760"
      ]
     },
     "execution_count": 4,
     "metadata": {},
     "output_type": "execute_result"
    }
   ],
   "source": [
    "#bitcoin grid\n",
    "epochs_bit = [30,45]#,55,65,75]\n",
    "neurons_bit = [100,125,150]#,175,200,225,250]\n",
    "grid_bit = []\n",
    "for e in epochs_bit:\n",
    "    for n in neurons_bit:\n",
    "        grid_bit.append((e,n))\n",
    "        \n",
    "bitcoin_errors1 = {}\n",
    "for element in grid_bit:\n",
    "    predictions_b, error_b =  Neural_Net_predictions(bitcoin,bits_log_shift,days_out=7,nb_epoch=element[0],neurons=element[1])\n",
    "    bitcoin_errors1[element] = [float(error_b)]\n",
    "bitcoin_errors = pd.DataFrame(bitcoin_errors1).transpose()\n",
    "bitcoin_errors = bitcoin_errors.reset_index().sort_values(by=0,ascending=True).rename(columns={'level_0':'epochs','level_1':'Neurons',0:'RMSE'})\n",
    "bitcoin_errors = bitcoin_errors.reset_index().drop('index',axis=1)\n",
    "bitcoin_errors"
   ]
  },
  {
   "cell_type": "code",
   "execution_count": 5,
   "metadata": {},
   "outputs": [
    {
     "data": {
      "text/html": [
       "<div>\n",
       "<style scoped>\n",
       "    .dataframe tbody tr th:only-of-type {\n",
       "        vertical-align: middle;\n",
       "    }\n",
       "\n",
       "    .dataframe tbody tr th {\n",
       "        vertical-align: top;\n",
       "    }\n",
       "\n",
       "    .dataframe thead th {\n",
       "        text-align: right;\n",
       "    }\n",
       "</style>\n",
       "<table border=\"1\" class=\"dataframe\">\n",
       "  <thead>\n",
       "    <tr style=\"text-align: right;\">\n",
       "      <th></th>\n",
       "      <th>epochs</th>\n",
       "      <th>Neurons</th>\n",
       "      <th>RMSE</th>\n",
       "    </tr>\n",
       "  </thead>\n",
       "  <tbody>\n",
       "    <tr>\n",
       "      <th>0</th>\n",
       "      <td>45</td>\n",
       "      <td>100</td>\n",
       "      <td>43.832599</td>\n",
       "    </tr>\n",
       "    <tr>\n",
       "      <th>1</th>\n",
       "      <td>55</td>\n",
       "      <td>100</td>\n",
       "      <td>45.647294</td>\n",
       "    </tr>\n",
       "    <tr>\n",
       "      <th>2</th>\n",
       "      <td>55</td>\n",
       "      <td>50</td>\n",
       "      <td>45.926413</td>\n",
       "    </tr>\n",
       "    <tr>\n",
       "      <th>3</th>\n",
       "      <td>45</td>\n",
       "      <td>75</td>\n",
       "      <td>46.214042</td>\n",
       "    </tr>\n",
       "    <tr>\n",
       "      <th>4</th>\n",
       "      <td>55</td>\n",
       "      <td>125</td>\n",
       "      <td>47.145459</td>\n",
       "    </tr>\n",
       "    <tr>\n",
       "      <th>5</th>\n",
       "      <td>55</td>\n",
       "      <td>75</td>\n",
       "      <td>47.884630</td>\n",
       "    </tr>\n",
       "    <tr>\n",
       "      <th>6</th>\n",
       "      <td>45</td>\n",
       "      <td>150</td>\n",
       "      <td>50.462438</td>\n",
       "    </tr>\n",
       "    <tr>\n",
       "      <th>7</th>\n",
       "      <td>45</td>\n",
       "      <td>125</td>\n",
       "      <td>53.188725</td>\n",
       "    </tr>\n",
       "    <tr>\n",
       "      <th>8</th>\n",
       "      <td>55</td>\n",
       "      <td>150</td>\n",
       "      <td>55.161379</td>\n",
       "    </tr>\n",
       "    <tr>\n",
       "      <th>9</th>\n",
       "      <td>45</td>\n",
       "      <td>50</td>\n",
       "      <td>77.559861</td>\n",
       "    </tr>\n",
       "  </tbody>\n",
       "</table>\n",
       "</div>"
      ],
      "text/plain": [
       "   epochs  Neurons       RMSE\n",
       "0      45      100  43.832599\n",
       "1      55      100  45.647294\n",
       "2      55       50  45.926413\n",
       "3      45       75  46.214042\n",
       "4      55      125  47.145459\n",
       "5      55       75  47.884630\n",
       "6      45      150  50.462438\n",
       "7      45      125  53.188725\n",
       "8      55      150  55.161379\n",
       "9      45       50  77.559861"
      ]
     },
     "execution_count": 5,
     "metadata": {},
     "output_type": "execute_result"
    }
   ],
   "source": [
    "epochs_bit = [45,55]#,65,75]\n",
    "neurons_bit = [50,75,100,125,150]#,175,200,225,250]\n",
    "grid_bit = []\n",
    "for e in epochs_bit:\n",
    "    for n in neurons_bit:\n",
    "        grid_bit.append((e,n))\n",
    "        \n",
    "bitcoin_errors1 = {}\n",
    "for element in grid_bit:\n",
    "    predictions_b, error_b =  Neural_Net_predictions(bitcoin,bits_log_shift,days_out=7,nb_epoch=element[0],neurons=element[1])\n",
    "    bitcoin_errors1[element] = [float(error_b)]\n",
    "bitcoin_errors = pd.DataFrame(bitcoin_errors1).transpose()\n",
    "bitcoin_errors = bitcoin_errors.reset_index().sort_values(by=0,ascending=True).rename(columns={'level_0':'epochs','level_1':'Neurons',0:'RMSE'})\n",
    "bitcoin_errors = bitcoin_errors.reset_index().drop('index',axis=1)\n",
    "bitcoin_errors"
   ]
  },
  {
   "cell_type": "code",
   "execution_count": 7,
   "metadata": {},
   "outputs": [
    {
     "data": {
      "text/html": [
       "<div>\n",
       "<style scoped>\n",
       "    .dataframe tbody tr th:only-of-type {\n",
       "        vertical-align: middle;\n",
       "    }\n",
       "\n",
       "    .dataframe tbody tr th {\n",
       "        vertical-align: top;\n",
       "    }\n",
       "\n",
       "    .dataframe thead th {\n",
       "        text-align: right;\n",
       "    }\n",
       "</style>\n",
       "<table border=\"1\" class=\"dataframe\">\n",
       "  <thead>\n",
       "    <tr style=\"text-align: right;\">\n",
       "      <th></th>\n",
       "      <th>epochs</th>\n",
       "      <th>Neurons</th>\n",
       "      <th>RMSE</th>\n",
       "    </tr>\n",
       "  </thead>\n",
       "  <tbody>\n",
       "    <tr>\n",
       "      <th>0</th>\n",
       "      <td>65</td>\n",
       "      <td>75</td>\n",
       "      <td>43.552213</td>\n",
       "    </tr>\n",
       "    <tr>\n",
       "      <th>1</th>\n",
       "      <td>75</td>\n",
       "      <td>75</td>\n",
       "      <td>45.338871</td>\n",
       "    </tr>\n",
       "    <tr>\n",
       "      <th>2</th>\n",
       "      <td>75</td>\n",
       "      <td>50</td>\n",
       "      <td>45.881310</td>\n",
       "    </tr>\n",
       "    <tr>\n",
       "      <th>3</th>\n",
       "      <td>75</td>\n",
       "      <td>100</td>\n",
       "      <td>46.285710</td>\n",
       "    </tr>\n",
       "    <tr>\n",
       "      <th>4</th>\n",
       "      <td>75</td>\n",
       "      <td>125</td>\n",
       "      <td>46.330310</td>\n",
       "    </tr>\n",
       "    <tr>\n",
       "      <th>5</th>\n",
       "      <td>65</td>\n",
       "      <td>100</td>\n",
       "      <td>52.606749</td>\n",
       "    </tr>\n",
       "    <tr>\n",
       "      <th>6</th>\n",
       "      <td>65</td>\n",
       "      <td>50</td>\n",
       "      <td>69.070938</td>\n",
       "    </tr>\n",
       "    <tr>\n",
       "      <th>7</th>\n",
       "      <td>65</td>\n",
       "      <td>125</td>\n",
       "      <td>97.852062</td>\n",
       "    </tr>\n",
       "  </tbody>\n",
       "</table>\n",
       "</div>"
      ],
      "text/plain": [
       "   epochs  Neurons       RMSE\n",
       "0      65       75  43.552213\n",
       "1      75       75  45.338871\n",
       "2      75       50  45.881310\n",
       "3      75      100  46.285710\n",
       "4      75      125  46.330310\n",
       "5      65      100  52.606749\n",
       "6      65       50  69.070938\n",
       "7      65      125  97.852062"
      ]
     },
     "execution_count": 7,
     "metadata": {},
     "output_type": "execute_result"
    }
   ],
   "source": [
    "epochs_bit = [65,75]#,65,75]\n",
    "neurons_bit = [50,75,100,125]#,150,175,200]#,175,200,225,250]\n",
    "grid_bit = []\n",
    "for e in epochs_bit:\n",
    "    for n in neurons_bit:\n",
    "        grid_bit.append((e,n))\n",
    "        \n",
    "bitcoin_errors1 = {}\n",
    "for element in grid_bit:\n",
    "    predictions_b, error_b =  Neural_Net_predictions(bitcoin,bits_log_shift,days_out=7,nb_epoch=element[0],neurons=element[1])\n",
    "    bitcoin_errors1[element] = [float(error_b)]\n",
    "bitcoin_errors = pd.DataFrame(bitcoin_errors1).transpose()\n",
    "bitcoin_errors = bitcoin_errors.reset_index().sort_values(by=0,ascending=True).rename(columns={'level_0':'epochs','level_1':'Neurons',0:'RMSE'})\n",
    "bitcoin_errors = bitcoin_errors.reset_index().drop('index',axis=1)\n",
    "bitcoin_errors"
   ]
  },
  {
   "cell_type": "code",
   "execution_count": null,
   "metadata": {},
   "outputs": [],
   "source": [
    "epochs_bit = [45,55]#,65,75]\n",
    "neurons_bit = [50,75,100,125,150]#,175,200,225,250]\n",
    "grid_bit = []\n",
    "for e in epochs_bit:\n",
    "    for n in neurons_bit:\n",
    "        grid_bit.append((e,n))\n",
    "        \n",
    "bitcoin_errors1 = {}\n",
    "for element in grid_bit:\n",
    "    predictions_b, error_b =  Neural_Net_predictions(bitcoin,bits_log_shift,days_out=7,nb_epoch=element[0],neurons=element[1])\n",
    "    bitcoin_errors1[element] = [float(error_b)]\n",
    "bitcoin_errors = pd.DataFrame(bitcoin_errors1).transpose()\n",
    "bitcoin_errors = bitcoin_errors.reset_index().sort_values(by=0,ascending=True).rename(columns={'level_0':'epochs','level_1':'Neurons',0:'RMSE'})\n",
    "bitcoin_errors = bitcoin_errors.reset_index().drop('index',axis=1)\n",
    "bitcoin_errors"
   ]
  },
  {
   "cell_type": "code",
   "execution_count": null,
   "metadata": {},
   "outputs": [],
   "source": [
    "bitcoin_NN, bit_error = Neural_Net_predictions(bitcoin,bits_log_shift,days_out=7,nb_epoch=30,neurons=100)\n",
    "#bitcoin_NN.to_csv('bitcoin_NN_predictions_RMSE_'+bit_error+'.csv')"
   ]
  },
  {
   "cell_type": "code",
   "execution_count": 10,
   "metadata": {},
   "outputs": [
    {
     "data": {
      "text/html": [
       "<div>\n",
       "<style scoped>\n",
       "    .dataframe tbody tr th:only-of-type {\n",
       "        vertical-align: middle;\n",
       "    }\n",
       "\n",
       "    .dataframe tbody tr th {\n",
       "        vertical-align: top;\n",
       "    }\n",
       "\n",
       "    .dataframe thead th {\n",
       "        text-align: right;\n",
       "    }\n",
       "</style>\n",
       "<table border=\"1\" class=\"dataframe\">\n",
       "  <thead>\n",
       "    <tr style=\"text-align: right;\">\n",
       "      <th></th>\n",
       "      <th>epochs</th>\n",
       "      <th>Neurons</th>\n",
       "      <th>RMSE</th>\n",
       "    </tr>\n",
       "  </thead>\n",
       "  <tbody>\n",
       "    <tr>\n",
       "      <th>0</th>\n",
       "      <td>65</td>\n",
       "      <td>175</td>\n",
       "      <td>1.672472</td>\n",
       "    </tr>\n",
       "    <tr>\n",
       "      <th>1</th>\n",
       "      <td>65</td>\n",
       "      <td>150</td>\n",
       "      <td>1.765719</td>\n",
       "    </tr>\n",
       "    <tr>\n",
       "      <th>2</th>\n",
       "      <td>55</td>\n",
       "      <td>150</td>\n",
       "      <td>3.539423</td>\n",
       "    </tr>\n",
       "    <tr>\n",
       "      <th>3</th>\n",
       "      <td>55</td>\n",
       "      <td>175</td>\n",
       "      <td>13.086137</td>\n",
       "    </tr>\n",
       "  </tbody>\n",
       "</table>\n",
       "</div>"
      ],
      "text/plain": [
       "   epochs  Neurons       RMSE\n",
       "0      65      175   1.672472\n",
       "1      65      150   1.765719\n",
       "2      55      150   3.539423\n",
       "3      55      175  13.086137"
      ]
     },
     "execution_count": 10,
     "metadata": {},
     "output_type": "execute_result"
    }
   ],
   "source": [
    "#ethereum grid\n",
    "epochs_e = [55,65]\n",
    "neurons_e = [150,175]\n",
    "grid_eth = []\n",
    "for e in epochs_e:\n",
    "    for n in neurons_e:\n",
    "        grid_eth.append((e,n))\n",
    "        \n",
    "ethereum_errors1 = {}\n",
    "for element in grid_eth:\n",
    "    predictions_e, error_e =  Neural_Net_predictions(ethereum,eth_log_shift,days_out=7,nb_epoch=element[0],neurons=element[1])\n",
    "    ethereum_errors1[element] = [float(error_e)]\n",
    "ethereum_errors = pd.DataFrame(ethereum_errors1).transpose()\n",
    "ethereum_errors = ethereum_errors.reset_index().sort_values(by=0,ascending=True).rename(columns={'level_0':'epochs','level_1':'Neurons',0:'RMSE'})\n",
    "ethereum_errors = ethereum_errors.reset_index().drop('index',axis=1)\n",
    "ethereum_errors"
   ]
  },
  {
   "cell_type": "markdown",
   "metadata": {},
   "source": [
    "Note bitcoin's best lowest error currently was 30 epochs at 100 neurons with err = 43.409585\n",
    "\n",
    "Note ethereum's best lowest error currently was 30 epochs at 150 neurons with err = 5.749"
   ]
  },
  {
   "cell_type": "markdown",
   "metadata": {},
   "source": [
    "Ethereum did best at 55 epochs and 175 neurons with an error of 1.67"
   ]
  },
  {
   "cell_type": "code",
   "execution_count": 9,
   "metadata": {},
   "outputs": [],
   "source": [
    "ethereum_NN, eth_error = Neural_Net_predictions(ethereum,eth_log_shift,days_out=7,nb_epoch=55,neurons=175)\n",
    "ethereum_NN.to_csv('ethereum_NN_predictions_RMSE_'+eth_error+'.csv')"
   ]
  },
  {
   "cell_type": "code",
   "execution_count": 12,
   "metadata": {},
   "outputs": [
    {
     "name": "stdout",
     "output_type": "stream",
     "text": [
      "46.490951727139226\n"
     ]
    }
   ],
   "source": [
    "bitcoin_NN, bit_error = Neural_Net_predictions(bitcoin,bits_log_shift,days_out=7,nb_epoch=45,neurons=100)\n",
    "print(bit_error)\n",
    "#bitcoin_NN.to_csv('bitcoin_NN_predictions_RMSE_'+bit_error+'.csv')"
   ]
  },
  {
   "cell_type": "code",
   "execution_count": 13,
   "metadata": {},
   "outputs": [
    {
     "name": "stdout",
     "output_type": "stream",
     "text": [
      "20.18832874321721\n"
     ]
    }
   ],
   "source": [
    "bitcoin_NN, bit_error = Neural_Net_predictions(bitcoin,bits_log_shift,days_out=7,nb_epoch=45,neurons=200)\n",
    "print(bit_error)"
   ]
  },
  {
   "cell_type": "code",
   "execution_count": 14,
   "metadata": {},
   "outputs": [
    {
     "name": "stdout",
     "output_type": "stream",
     "text": [
      "177.5821649676008\n"
     ]
    }
   ],
   "source": [
    "bitcoin_NN, bit_error = Neural_Net_predictions(bitcoin,bits_log_shift,days_out=7,nb_epoch=45,neurons=400)\n",
    "print(bit_error)"
   ]
  },
  {
   "cell_type": "code",
   "execution_count": 15,
   "metadata": {},
   "outputs": [
    {
     "name": "stdout",
     "output_type": "stream",
     "text": [
      "62.64744065310527\n"
     ]
    }
   ],
   "source": [
    "bitcoin_NN, bit_error = Neural_Net_predictions(bitcoin,bits_log_shift,days_out=7,nb_epoch=45,neurons=300)\n",
    "print(bit_error)"
   ]
  },
  {
   "cell_type": "code",
   "execution_count": 16,
   "metadata": {},
   "outputs": [
    {
     "name": "stdout",
     "output_type": "stream",
     "text": [
      "46.206403678418624\n"
     ]
    }
   ],
   "source": [
    "bitcoin_NN, bit_error = Neural_Net_predictions(bitcoin,bits_log_shift,days_out=7,nb_epoch=75,neurons=200)\n",
    "print(bit_error)"
   ]
  },
  {
   "cell_type": "code",
   "execution_count": 17,
   "metadata": {},
   "outputs": [
    {
     "name": "stdout",
     "output_type": "stream",
     "text": [
      "50.836026218358946\n"
     ]
    }
   ],
   "source": [
    "bitcoin_NN, bit_error = Neural_Net_predictions(bitcoin,bits_log_shift,days_out=7,nb_epoch=30,neurons=200)\n",
    "print(bit_error)"
   ]
  },
  {
   "cell_type": "code",
   "execution_count": 18,
   "metadata": {},
   "outputs": [
    {
     "name": "stdout",
     "output_type": "stream",
     "text": [
      "47.54170825472671\n"
     ]
    }
   ],
   "source": [
    "bitcoin_NN, bit_error = Neural_Net_predictions(bitcoin,bits_log_shift,days_out=7,nb_epoch=35,neurons=200)\n",
    "print(bit_error)"
   ]
  },
  {
   "cell_type": "code",
   "execution_count": 19,
   "metadata": {},
   "outputs": [
    {
     "name": "stdout",
     "output_type": "stream",
     "text": [
      "45.24576245813495\n"
     ]
    }
   ],
   "source": [
    "bitcoin_NN, bit_error = Neural_Net_predictions(bitcoin,bits_log_shift,days_out=7,nb_epoch=45,neurons=175)\n",
    "print(bit_error)"
   ]
  },
  {
   "cell_type": "code",
   "execution_count": 21,
   "metadata": {},
   "outputs": [],
   "source": [
    "bitcoin_NN, bit_error = Neural_Net_predictions(bitcoin,bits_log_shift,days_out=7,nb_epoch=45,neurons=200)\n",
    "bitcoin_NN.to_csv('bitcoin_NN_predictions_RMSE_'+bit_error+'.csv')"
   ]
  },
  {
   "cell_type": "code",
   "execution_count": null,
   "metadata": {},
   "outputs": [],
   "source": []
  }
 ],
 "metadata": {
  "kernelspec": {
   "display_name": "Python 3",
   "language": "python",
   "name": "python3"
  },
  "language_info": {
   "codemirror_mode": {
    "name": "ipython",
    "version": 3
   },
   "file_extension": ".py",
   "mimetype": "text/x-python",
   "name": "python",
   "nbconvert_exporter": "python",
   "pygments_lexer": "ipython3",
   "version": "3.6.4"
  }
 },
 "nbformat": 4,
 "nbformat_minor": 2
}
